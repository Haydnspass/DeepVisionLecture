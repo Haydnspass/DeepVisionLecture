{
 "cells": [
  {
   "cell_type": "code",
   "execution_count": 103,
   "metadata": {},
   "outputs": [],
   "source": [
    "import copy\n",
    "import os\n",
    "import sys\n",
    "\n",
    "import matplotlib.pyplot as plt\n",
    "import numpy as np\n",
    "import sklearn\n",
    "\n",
    "from sklearn.metrics import accuracy_score as acc\n",
    "from sklearn.neighbors import KNeighborsClassifier as knnc\n",
    "\n",
    "import torch\n",
    "import torchvision\n",
    "import torchvision.transforms as transforms\n",
    "\n",
    "import material.cifar10 as cifar10"
   ]
  },
  {
   "cell_type": "code",
   "execution_count": 4,
   "metadata": {},
   "outputs": [],
   "source": [
    "# cifar10 = cifar10.load_CIFAR10()"
   ]
  },
  {
   "cell_type": "code",
   "execution_count": 5,
   "metadata": {},
   "outputs": [
    {
     "name": "stdout",
     "output_type": "stream",
     "text": [
      "Files already downloaded and verified\n",
      "Files already downloaded and verified\n"
     ]
    }
   ],
   "source": [
    "# pytorch version\n",
    "trainset = torchvision.datasets.CIFAR10(root='./data_pytorch', train=True, download=True, transform=transforms.ToTensor())\n",
    "testset = torchvision.datasets.CIFAR10(root='./data_pytorch', train=False, download=True, transform=transforms.ToTensor())"
   ]
  },
  {
   "cell_type": "code",
   "execution_count": 6,
   "metadata": {},
   "outputs": [],
   "source": [
    "# slight abuse of the dataloaders to get the desired size\n",
    "trainloader = torch.utils.data.DataLoader(trainset, batch_size=10000, shuffle=False, num_workers=0)\n",
    "testloader = torch.utils.data.DataLoader(testset, batch_size=5000, shuffle=False, num_workers=0)"
   ]
  },
  {
   "cell_type": "code",
   "execution_count": 119,
   "metadata": {},
   "outputs": [],
   "source": [
    "class Dataset:\n",
    "    # small class to convert from pytorch dimension order to sklearn\n",
    "    def __init__(self, loader):\n",
    "        # input is a pytorch loader\n",
    "        self.loader = loader\n",
    "        self.x, self.y = iter(self.loader).next()\n",
    "        self.pred = None\n",
    "        \n",
    "        # change dimension order (from NCHW to NHWC)\n",
    "        self.x = self.x.permute(0, 2, 3, 1)\n",
    "    \n",
    "    def skl(self):\n",
    "        # get output for sklearn algorithm (flatten)\n",
    "        \n",
    "        x = self.x.contiguous().view(self.x.size(0), -1).numpy()\n",
    "        y = self.y.numpy()\n",
    "        \n",
    "        return x, y"
   ]
  },
  {
   "cell_type": "code",
   "execution_count": 120,
   "metadata": {},
   "outputs": [
    {
     "name": "stdout",
     "output_type": "stream",
     "text": [
      "torch.Size([10000, 32, 32, 3])\n",
      "torch.Size([10000])\n"
     ]
    }
   ],
   "source": [
    "trainset = Dataset(trainloader)\n",
    "testset = Dataset(testloader)\n",
    "\n",
    "print(trainset.x.shape)\n",
    "print(trainset.y.shape)"
   ]
  },
  {
   "cell_type": "markdown",
   "metadata": {},
   "source": [
    "# Train and fit witha kNN "
   ]
  },
  {
   "cell_type": "markdown",
   "metadata": {},
   "source": [
    "## n = 1"
   ]
  },
  {
   "cell_type": "code",
   "execution_count": 42,
   "metadata": {},
   "outputs": [
    {
     "data": {
      "text/plain": [
       "KNeighborsClassifier(algorithm='auto', leaf_size=30, metric='minkowski',\n",
       "           metric_params=None, n_jobs=-1, n_neighbors=1, p=2,\n",
       "           weights='uniform')"
      ]
     },
     "execution_count": 42,
     "metadata": {},
     "output_type": "execute_result"
    }
   ],
   "source": [
    "# set up the k nn classifier\n",
    "knn_1 = knnc(n_neighbors=1, n_jobs=-1)\n",
    "# use the .skl method\n",
    "knn_1.fit(*trainset.skl())"
   ]
  },
  {
   "cell_type": "code",
   "execution_count": 45,
   "metadata": {},
   "outputs": [
    {
     "name": "stdout",
     "output_type": "stream",
     "text": [
      "Accuracy: 0.2868\n"
     ]
    }
   ],
   "source": [
    "# prediction time\n",
    "testset.pred = knn_1.predict(testset.skl()[0])\n",
    "print(\"Accuracy: {}\".format(acc(testset.y, testset.pred)))"
   ]
  },
  {
   "cell_type": "markdown",
   "metadata": {},
   "source": [
    "## n = 16"
   ]
  },
  {
   "cell_type": "code",
   "execution_count": 46,
   "metadata": {},
   "outputs": [
    {
     "data": {
      "text/plain": [
       "KNeighborsClassifier(algorithm='auto', leaf_size=30, metric='minkowski',\n",
       "           metric_params=None, n_jobs=-1, n_neighbors=16, p=2,\n",
       "           weights='uniform')"
      ]
     },
     "execution_count": 46,
     "metadata": {},
     "output_type": "execute_result"
    }
   ],
   "source": [
    "# set up the k nn classifier\n",
    "knn_16 = knnc(n_neighbors=16, n_jobs=-1)\n",
    "knn_16.fit(*trainset.skl())"
   ]
  },
  {
   "cell_type": "code",
   "execution_count": 47,
   "metadata": {},
   "outputs": [
    {
     "name": "stdout",
     "output_type": "stream",
     "text": [
      "Accuracy: 0.294\n"
     ]
    }
   ],
   "source": [
    "testset.pred = knn_16.predict(testset.skl()[0])\n",
    "print(\"Accuracy: {}\".format(acc(testset.y, testset.pred)))"
   ]
  },
  {
   "cell_type": "markdown",
   "metadata": {},
   "source": [
    "## n = 64"
   ]
  },
  {
   "cell_type": "code",
   "execution_count": 48,
   "metadata": {},
   "outputs": [
    {
     "data": {
      "text/plain": [
       "KNeighborsClassifier(algorithm='auto', leaf_size=30, metric='minkowski',\n",
       "           metric_params=None, n_jobs=-1, n_neighbors=64, p=2,\n",
       "           weights='uniform')"
      ]
     },
     "execution_count": 48,
     "metadata": {},
     "output_type": "execute_result"
    }
   ],
   "source": [
    "# set up the k nn classifier\n",
    "knn_64 = knnc(n_neighbors=64, n_jobs=-1)\n",
    "knn_64.fit(*trainset.skl())"
   ]
  },
  {
   "cell_type": "code",
   "execution_count": 49,
   "metadata": {},
   "outputs": [
    {
     "name": "stdout",
     "output_type": "stream",
     "text": [
      "Accuracy: 0.2804\n"
     ]
    }
   ],
   "source": [
    "testset.pred = knn_64.predict(testset.skl()[0])\n",
    "print(\"Accuracy: {}\".format(acc(testset.y, testset.pred)))"
   ]
  },
  {
   "cell_type": "markdown",
   "metadata": {},
   "source": [
    "None of the results allow to scientifically argue that one of the choices of n is superior to the others."
   ]
  },
  {
   "cell_type": "code",
   "execution_count": 113,
   "metadata": {},
   "outputs": [],
   "source": [
    "class FeatureExtraction:\n",
    "    def __init__(self):\n",
    "        # pytorch dataset goes from 0 to 1, not 0 to 255\n",
    "        self.edges = np.linspace(0, 1, 10+1)\n",
    "    \n",
    "\n",
    "    def get_features(self, img):\n",
    "        red, _ = np.histogram(img[:, :, 0].flatten(), self.edges)\n",
    "        green, _ = np.histogram(img[:, :, 1].flatten(), self.edges)\n",
    "        blue, _ = np.histogram(img[:, :, 2].flatten(), self.edges)\n",
    "        \n",
    "        return np.concatenate([red, blue, green]).reshape([1, -1])\n",
    "    \n",
    "    def foward(self, dataset):\n",
    "        dlen = dataset.x.shape[0]\n",
    "        features = np.empty((dlen, 30))\n",
    "        \n",
    "        for i in range(dlen):\n",
    "            features[i, :] = self.get_features(dataset.x[i, :, :, :])\n",
    "            \n",
    "        dataset.features = features\n",
    "        \n",
    "        return dataset\n",
    "        \n",
    "    "
   ]
  },
  {
   "cell_type": "code",
   "execution_count": 110,
   "metadata": {},
   "outputs": [],
   "source": [
    "trainset_feat = FeatureExtraction().foward(trainset)\n",
    "testset_feat = FeatureExtraction().foward(testset)"
   ]
  },
  {
   "cell_type": "code",
   "execution_count": 111,
   "metadata": {},
   "outputs": [
    {
     "data": {
      "image/png": "[encoded data removed]",
      "text/plain": [
       "<Figure size 432x288 with 1 Axes>"
      ]
     },
     "metadata": {
      "needs_background": "light"
     },
     "output_type": "display_data"
    },
    {
     "data": {
      "image/png": "[encoded data removed]",
      "text/plain": [
       "<Figure size 432x288 with 1 Axes>"
      ]
     },
     "metadata": {
      "needs_background": "light"
     },
     "output_type": "display_data"
    }
   ],
   "source": [
    "plt.imshow(trainset_feat.x[1]); plt.show()\n",
    "plt.plot(trainset_feat.features[1, :]); plt.ylim(0, 200); plt.show()"
   ]
  },
  {
   "cell_type": "code",
   "execution_count": 117,
   "metadata": {},
   "outputs": [
    {
     "name": "stdout",
     "output_type": "stream",
     "text": [
      "Accuracy of  n = 1: 0.2518\n",
      "Accuracy of n = 16: 0.2826\n",
      "Accuracy of n = 64: 0.291\n"
     ]
    }
   ],
   "source": [
    "## n = 1\n",
    "\n",
    "# set up the k nn classifier\n",
    "knn_1 = knnc(n_neighbors=1, n_jobs=-1)\n",
    "knn_1.fit(trainset.features, trainset.y)\n",
    "\n",
    "# prediction time\n",
    "testset.pred = knn_1.predict(testset.features)\n",
    "print(\"Accuracy of  n = 1: {}\".format(acc(testset.y, testset.pred)))\n",
    "\n",
    "## n = 16\n",
    "\n",
    "# set up the k nn classifier\n",
    "knn_16 = knnc(n_neighbors=16, n_jobs=-1)\n",
    "knn_16.fit(trainset.features, trainset.y)\n",
    "\n",
    "testset.pred = knn_16.predict(testset.features)\n",
    "print(\"Accuracy of n = 16: {}\".format(acc(testset.y, testset.pred)))\n",
    "\n",
    "## n = 64\n",
    "\n",
    "# set up the k nn classifier\n",
    "knn_64 = knnc(n_neighbors=64, n_jobs=-1)\n",
    "knn_64.fit(trainset.features, trainset.y)\n",
    "\n",
    "testset.pred = knn_64.predict(testset.features)\n",
    "print(\"Accuracy of n = 64: {}\".format(acc(testset.y, testset.pred)))"
   ]
  },
  {
   "cell_type": "markdown",
   "metadata": {},
   "source": [
    "None of the results allow to scientifically argue that one of the choices of n is superior to the others. There does not seem to be a huge effect of extracting the features (which is not too bad, since with the features the dimensionality is only d = 30 and not d = 32 * 32)."
   ]
  }
 ],
 "metadata": {
  "kernelspec": {
   "display_name": "Python [conda env:deepvisionlecture] *",
   "language": "python",
   "name": "conda-env-deepvisionlecture-py"
  },
  "language_info": {
   "codemirror_mode": {
    "name": "ipython",
    "version": 3
   },
   "file_extension": ".py",
   "mimetype": "text/x-python",
   "name": "python",
   "nbconvert_exporter": "python",
   "pygments_lexer": "ipython3",
   "version": "3.6.7"
  }
 },
 "nbformat": 4,
 "nbformat_minor": 2
}
