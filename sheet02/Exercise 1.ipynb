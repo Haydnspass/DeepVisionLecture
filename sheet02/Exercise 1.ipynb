{
 "cells": [
  {
   "cell_type": "code",
   "execution_count": 157,
   "metadata": {},
   "outputs": [],
   "source": [
    "import copy\n",
    "import os\n",
    "import sys\n",
    "\n",
    "import matplotlib.pyplot as plt\n",
    "import numpy as np\n",
    "import sklearn\n",
    "\n",
    "from sklearn.metrics import accuracy_score as acc\n",
    "from sklearn.neighbors import KNeighborsClassifier as knnc\n",
    "from tqdm import tqdm\n",
    "\n",
    "import torch\n",
    "import torchvision\n",
    "import torchvision.transforms as transforms"
   ]
  },
  {
   "cell_type": "code",
   "execution_count": 160,
   "metadata": {},
   "outputs": [
    {
     "data": {
      "text/plain": [
       "'/Users/lucasmueller/Repositories/DeepVisionLecture/sheet02'"
      ]
     },
     "execution_count": 160,
     "metadata": {},
     "output_type": "execute_result"
    }
   ],
   "source": [
    "pwd"
   ]
  },
  {
   "cell_type": "markdown",
   "metadata": {},
   "source": [
    "# Preliminaries"
   ]
  },
  {
   "cell_type": "code",
   "execution_count": 105,
   "metadata": {},
   "outputs": [
    {
     "name": "stdout",
     "output_type": "stream",
     "text": [
      "Files already downloaded and verified\n",
      "Files already downloaded and verified\n",
      "torch.Size([10000, 32, 32, 3])\n",
      "torch.Size([10000])\n"
     ]
    }
   ],
   "source": [
    "# Download the data\n",
    "\n",
    "# pytorch version\n",
    "trainset = torchvision.datasets.CIFAR10(root='./data_pytorch', train=True, download=True, transform=transforms.ToTensor())\n",
    "testset = torchvision.datasets.CIFAR10(root='./data_pytorch', train=False, download=True, transform=transforms.ToTensor())\n",
    "\n",
    "# slight abuse of the dataloaders to get the desired size\n",
    "trainloader = torch.utils.data.DataLoader(trainset, batch_size=10000, shuffle=False, num_workers=0)\n",
    "testloader = torch.utils.data.DataLoader(testset, batch_size=5000, shuffle=False, num_workers=0)\n",
    "\n",
    "class Dataset:\n",
    "    # small class to convert from pytorch dimension order to sklearn\n",
    "    def __init__(self, loader):\n",
    "        # input is a pytorch loader\n",
    "        self.loader = loader\n",
    "        self.x, self.y = iter(self.loader).next()\n",
    "        self.pred = None\n",
    "        \n",
    "        # change dimension order (from NCHW to NHWC)\n",
    "        self.x = self.x.permute(0, 2, 3, 1)\n",
    "    \n",
    "    def skl(self):\n",
    "        # get output for sklearn algorithm (flatten)\n",
    "        \n",
    "        x = self.x.contiguous().view(self.x.size(0), -1).numpy()\n",
    "        y = self.y.numpy()\n",
    "        \n",
    "        return x, y\n",
    "    \n",
    "trainset = Dataset(trainloader)\n",
    "testset = Dataset(testloader)\n",
    "\n",
    "print(trainset.x.shape)\n",
    "print(trainset.y.shape)"
   ]
  },
  {
   "cell_type": "code",
   "execution_count": 106,
   "metadata": {},
   "outputs": [],
   "source": [
    "class FeatureExtraction:\n",
    "    def __init__(self):\n",
    "        # pytorch dataset goes from 0 to 1, not 0 to 255\n",
    "        self.edges = np.linspace(0, 1, 10+1)\n",
    "    \n",
    "\n",
    "    def get_features(self, img):\n",
    "        red, _ = np.histogram(img[:, :, 0].flatten(), self.edges)\n",
    "        green, _ = np.histogram(img[:, :, 1].flatten(), self.edges)\n",
    "        blue, _ = np.histogram(img[:, :, 2].flatten(), self.edges)\n",
    "        \n",
    "        return np.concatenate([red, blue, green]).reshape([1, -1])\n",
    "    \n",
    "    def foward(self, dataset):\n",
    "        dlen = dataset.x.shape[0]\n",
    "        features = np.empty((dlen, 30))\n",
    "        \n",
    "        for i in range(dlen):\n",
    "            features[i, :] = self.get_features(dataset.x[i, :, :, :])\n",
    "            \n",
    "        dataset.features = features\n",
    "        \n",
    "        return dataset"
   ]
  },
  {
   "cell_type": "code",
   "execution_count": 107,
   "metadata": {},
   "outputs": [],
   "source": [
    "trainset_feat = FeatureExtraction().foward(trainset)\n",
    "testset_feat = FeatureExtraction().foward(testset)"
   ]
  },
  {
   "cell_type": "markdown",
   "metadata": {},
   "source": [
    "# Task 1: Linear Classifier with Least Squares"
   ]
  },
  {
   "cell_type": "code",
   "execution_count": 130,
   "metadata": {},
   "outputs": [],
   "source": [
    "from scipy.optimize import least_squares as lsq\n",
    "from scipy.optimize import curve_fit as cf"
   ]
  },
  {
   "cell_type": "code",
   "execution_count": 149,
   "metadata": {},
   "outputs": [],
   "source": [
    "class LSQclassifier:\n",
    "    def __init__(self):\n",
    "        self.lin = self.linear_function\n",
    "        self.w = None\n",
    "        \n",
    "    @staticmethod\n",
    "    def linear_function(param, x, y=None):\n",
    "        # expand weights\n",
    "        param = np.expand_dims(param, 1)\n",
    "        \n",
    "        # construct the design matrix which is N x (D + 1), where N: num samples, D dimensionality, \n",
    "        # and 0th dimension of all samples is set to 0, so the 0th weight is the bias.\n",
    "        X = np.ones((x.shape[0], x.shape[1] + 1))\n",
    "        X[:, 1:] = x\n",
    "        \n",
    "        # set y to zero if not provided. this is to use this function in lsq directly.\n",
    "        if y is None:\n",
    "            y = np.zeros(x.shape[0])\n",
    "        \n",
    "        return np.matmul(X, param).squeeze() - y\n",
    "    \n",
    "    def fit(self,x,y):\n",
    "        w_ini = np.random.rand(31)\n",
    "        w_fin = lsq(self.linear_function, w_ini, args=(x, y))\n",
    "        self.w = w_fin.x\n",
    "    \n",
    "    def predict(self, x):\n",
    "        pred = np.sign(self.linear_function(self.w, x, None))\n",
    "        return pred"
   ]
  },
  {
   "cell_type": "code",
   "execution_count": 162,
   "metadata": {},
   "outputs": [],
   "source": [
    "lsqc = LSQclassifier()"
   ]
  },
  {
   "cell_type": "code",
   "execution_count": 163,
   "metadata": {},
   "outputs": [],
   "source": [
    "from material.exercise2 import get_two_classes, accuracy_score\n",
    "x, y, x_test, y_test = get_two_classes(trainset_feat.features, trainset_feat.y.numpy(), \n",
    "                                       testset_feat.features, testset.y.numpy())"
   ]
  },
  {
   "cell_type": "code",
   "execution_count": 164,
   "metadata": {},
   "outputs": [],
   "source": [
    "lsqc.fit(x, y)\n",
    "y_train_out = lsqc.predict(x)\n",
    "y_test_out = lsqc.predict(x_test)"
   ]
  },
  {
   "cell_type": "code",
   "execution_count": 165,
   "metadata": {},
   "outputs": [
    {
     "name": "stdout",
     "output_type": "stream",
     "text": [
      "Linear Classifier: Train 0.86, Test 0.85\n"
     ]
    }
   ],
   "source": [
    "train_acc = accuracy_score(y,y_train_out)\n",
    "test_acc  = accuracy_score(y_test,y_test_out)\n",
    "print('Linear Classifier: Train %.2f, Test %.2f'%(train_acc,test_acc))"
   ]
  },
  {
   "cell_type": "code",
   "execution_count": 168,
   "metadata": {},
   "outputs": [
    {
     "data": {
      "text/plain": [
       "<BarContainer object of 31 artists>"
      ]
     },
     "execution_count": 168,
     "metadata": {},
     "output_type": "execute_result"
    },
    {
     "data": {
      "image/png": "[encoded data removed]",
      "text/plain": [
       "<Figure size 432x288 with 1 Axes>"
      ]
     },
     "metadata": {
      "needs_background": "light"
     },
     "output_type": "display_data"
    }
   ],
   "source": [
    "plt.bar(np.arange(lsqc.w.shape[0]), lsqc.w.squeeze())"
   ]
  },
  {
   "cell_type": "markdown",
   "metadata": {},
   "source": [
    "# Task 2: Linear SVM"
   ]
  },
  {
   "cell_type": "code",
   "execution_count": 34,
   "metadata": {},
   "outputs": [],
   "source": [
    "from sklearn.svm import LinearSVC"
   ]
  },
  {
   "cell_type": "code",
   "execution_count": 91,
   "metadata": {},
   "outputs": [
    {
     "name": "stderr",
     "output_type": "stream",
     "text": [
      "/Users/lucasmueller/anaconda/envs/deepvisionlecture/lib/python3.6/site-packages/sklearn/svm/base.py:931: ConvergenceWarning: Liblinear failed to converge, increase the number of iterations.\n",
      "  \"the number of iterations.\", ConvergenceWarning)\n"
     ]
    }
   ],
   "source": [
    "clf = LinearSVC(random_state=0, tol=1e-5, max_iter=10000)\n",
    "clf.fit(x, y)\n",
    "y_train_out = clf.predict(x)\n",
    "y_test_out = clf.predict(x_test)"
   ]
  },
  {
   "cell_type": "code",
   "execution_count": 92,
   "metadata": {},
   "outputs": [
    {
     "name": "stdout",
     "output_type": "stream",
     "text": [
      "Linear SVM classifier: Train 0.71, Test 0.72\n"
     ]
    }
   ],
   "source": [
    "train_acc = accuracy_score(y,y_train_out)\n",
    "test_acc  = accuracy_score(y_test,y_test_out)\n",
    "print('Linear SVM classifier: Train %.2f, Test %.2f'%(train_acc,test_acc))"
   ]
  },
  {
   "cell_type": "code",
   "execution_count": 50,
   "metadata": {},
   "outputs": [],
   "source": [
    "weight = clf.coef_"
   ]
  },
  {
   "cell_type": "code",
   "execution_count": 57,
   "metadata": {},
   "outputs": [
    {
     "data": {
      "text/plain": [
       "<BarContainer object of 30 artists>"
      ]
     },
     "execution_count": 57,
     "metadata": {},
     "output_type": "execute_result"
    },
    {
     "data": {
      "image/png": "[encoded data removed]",
      "text/plain": [
       "<Figure size 432x288 with 1 Axes>"
      ]
     },
     "metadata": {
      "needs_background": "light"
     },
     "output_type": "display_data"
    }
   ],
   "source": [
    "plt.bar(np.arange(weight.shape[1]), weight.squeeze())"
   ]
  },
  {
   "cell_type": "markdown",
   "metadata": {},
   "source": [
    "# Task 3: Non-Linear SVM"
   ]
  },
  {
   "cell_type": "code",
   "execution_count": 76,
   "metadata": {},
   "outputs": [],
   "source": [
    "from sklearn.svm import SVC\n",
    "from sklearn.model_selection import cross_val_score, GridSearchCV\n",
    "from sklearn.metrics import make_scorer"
   ]
  },
  {
   "cell_type": "code",
   "execution_count": 66,
   "metadata": {},
   "outputs": [],
   "source": [
    "param = {'C': [1, 10, 100, 1000], 'gamma': [0.001, 0.0001], 'kernel': ['poly', 'rbf', 'sigmoid']}"
   ]
  },
  {
   "cell_type": "code",
   "execution_count": 67,
   "metadata": {},
   "outputs": [],
   "source": [
    "svc = SVC()"
   ]
  },
  {
   "cell_type": "code",
   "execution_count": 78,
   "metadata": {},
   "outputs": [
    {
     "data": {
      "text/plain": [
       "GridSearchCV(cv=5, error_score='raise-deprecating',\n",
       "       estimator=SVC(C=1.0, cache_size=200, class_weight=None, coef0=0.0,\n",
       "  decision_function_shape='ovr', degree=3, gamma='auto_deprecated',\n",
       "  kernel='rbf', max_iter=-1, probability=False, random_state=None,\n",
       "  shrinking=True, tol=0.001, verbose=False),\n",
       "       fit_params=None, iid='warn', n_jobs=-1,\n",
       "       param_grid={'C': [1, 10, 100, 1000], 'gamma': [0.001, 0.0001], 'kernel': ['poly', 'rbf', 'sigmoid']},\n",
       "       pre_dispatch='2*n_jobs', refit=True, return_train_score='warn',\n",
       "       scoring=make_scorer(accuracy_score), verbose=0)"
      ]
     },
     "execution_count": 78,
     "metadata": {},
     "output_type": "execute_result"
    }
   ],
   "source": [
    "acc_acut = make_scorer(accuracy_score)\n",
    "clf = GridSearchCV(svc, param, scoring=acc_acut, cv=5, n_jobs=-1)\n",
    "clf.fit(x, y)"
   ]
  },
  {
   "cell_type": "code",
   "execution_count": 81,
   "metadata": {},
   "outputs": [
    {
     "name": "stdout",
     "output_type": "stream",
     "text": [
      "{'C': 1, 'gamma': 0.001, 'kernel': 'poly'}\n"
     ]
    }
   ],
   "source": [
    "print(clf.best_params_)"
   ]
  },
  {
   "cell_type": "code",
   "execution_count": 83,
   "metadata": {},
   "outputs": [
    {
     "data": {
      "text/plain": [
       "SVC(C=1, cache_size=200, class_weight=None, coef0=0.0,\n",
       "  decision_function_shape='ovr', degree=3, gamma=0.001, kernel='poly',\n",
       "  max_iter=-1, probability=False, random_state=None, shrinking=True,\n",
       "  tol=0.001, verbose=False)"
      ]
     },
     "execution_count": 83,
     "metadata": {},
     "output_type": "execute_result"
    }
   ],
   "source": [
    "svc_tuned = SVC(C=1, gamma=0.001, kernel='poly')\n",
    "svc_tuned.fit(x, y)"
   ]
  },
  {
   "cell_type": "code",
   "execution_count": 84,
   "metadata": {},
   "outputs": [],
   "source": [
    "y_train_out = clf.predict(x)\n",
    "y_test_out = clf.predict(x_test)"
   ]
  },
  {
   "cell_type": "code",
   "execution_count": 86,
   "metadata": {},
   "outputs": [
    {
     "name": "stdout",
     "output_type": "stream",
     "text": [
      "Non-Linear SVM classifier: Train 1.00, Test 0.81\n"
     ]
    }
   ],
   "source": [
    "train_acc = accuracy_score(y,y_train_out)\n",
    "test_acc  = accuracy_score(y_test,y_test_out)\n",
    "print('Non-Linear SVM classifier: Train %.2f, Test %.2f'%(train_acc,test_acc))"
   ]
  },
  {
   "cell_type": "markdown",
   "metadata": {},
   "source": [
    "What we see is that our SVM has now quite some overfit on the training data. This is not really surprising as high dimensionality increases the chance of overfitting.\n",
    "The authors of the original paper state that \n",
    "\n",
    "E[P(error)] <= E[num support vec] / (num_train_vec)"
   ]
  },
  {
   "cell_type": "code",
   "execution_count": null,
   "metadata": {},
   "outputs": [],
   "source": []
  },
  {
   "cell_type": "markdown",
   "metadata": {},
   "source": [
    "# Task 5: Multi-Class Linear SVM"
   ]
  },
  {
   "cell_type": "code",
   "execution_count": 93,
   "metadata": {},
   "outputs": [],
   "source": [
    "from material.exercise2 import get_multiple_classes\n",
    "x, y, x_test, y_test = get_multiple_classes(trainset_feat.features, trainset_feat.y.numpy(), \n",
    "                                       testset_feat.features, testset.y.numpy())"
   ]
  },
  {
   "cell_type": "code",
   "execution_count": 95,
   "metadata": {},
   "outputs": [
    {
     "name": "stderr",
     "output_type": "stream",
     "text": [
      "/Users/lucasmueller/anaconda/envs/deepvisionlecture/lib/python3.6/site-packages/sklearn/svm/base.py:931: ConvergenceWarning: Liblinear failed to converge, increase the number of iterations.\n",
      "  \"the number of iterations.\", ConvergenceWarning)\n"
     ]
    }
   ],
   "source": [
    "clf = LinearSVC(random_state=0, tol=1e-5, max_iter=1000)\n",
    "clf.fit(trainset_feat.features, trainset_feat.y)\n",
    "y_train_out = clf.predict(x)\n",
    "y_test_out = clf.predict(x_test)"
   ]
  },
  {
   "cell_type": "code",
   "execution_count": 96,
   "metadata": {},
   "outputs": [
    {
     "name": "stdout",
     "output_type": "stream",
     "text": [
      "(Multi-class) Linear SVM: Train 0.25, Test 0.25\n"
     ]
    }
   ],
   "source": [
    "train_acc = accuracy_score(y,y_train_out)\n",
    "test_acc  = accuracy_score(y_test,y_test_out)\n",
    "print('(Multi-class) Linear SVM: Train %.2f, Test %.2f'%(train_acc,test_acc))"
   ]
  },
  {
   "cell_type": "markdown",
   "metadata": {},
   "source": [
    "Better than uninformed guessing"
   ]
  },
  {
   "cell_type": "markdown",
   "metadata": {},
   "source": [
    "# Task 6: Classification by Logistic Regression with Pytorch"
   ]
  },
  {
   "cell_type": "markdown",
   "metadata": {},
   "source": [
    "1. nn. Linear is a fully connected layer in a NN"
   ]
  },
  {
   "cell_type": "markdown",
   "metadata": {},
   "source": [
    "2. criterion is a a cost functions (most commonly a loss) which is minimised by the optimizer"
   ]
  },
  {
   "cell_type": "markdown",
   "metadata": {},
   "source": [
    "3.  In loss.backward() the backpropagation algorithm is applied and the gradients with respect to each trainable parameter is being computed"
   ]
  },
  {
   "cell_type": "markdown",
   "metadata": {},
   "source": [
    "4. Based on the weight of the gradient of the gradient an optimiser updates the trainable parameters. The updated is determined by the gradient and some other hyper-parameters such as learning rate, etc."
   ]
  },
  {
   "cell_type": "code",
   "execution_count": 100,
   "metadata": {},
   "outputs": [
    {
     "name": "stdout",
     "output_type": "stream",
     "text": [
      "Epoch: [1/2000], Loss: 87.0194\n",
      "Epoch: [101/2000], Loss: 14.5834\n",
      "Epoch: [201/2000], Loss: 8.1591\n",
      "Epoch: [301/2000], Loss: 5.7632\n",
      "Epoch: [401/2000], Loss: 4.5518\n",
      "Epoch: [501/2000], Loss: 3.4706\n",
      "Epoch: [601/2000], Loss: 4.2479\n",
      "Epoch: [701/2000], Loss: 3.7079\n",
      "Epoch: [801/2000], Loss: 5.7202\n",
      "Epoch: [901/2000], Loss: 3.2834\n",
      "Epoch: [1001/2000], Loss: 5.9474\n",
      "Epoch: [1101/2000], Loss: 1.3158\n",
      "Epoch: [1201/2000], Loss: 1.2535\n",
      "Epoch: [1301/2000], Loss: 1.2135\n",
      "Epoch: [1401/2000], Loss: 1.1864\n",
      "Epoch: [1501/2000], Loss: 1.1670\n",
      "Epoch: [1601/2000], Loss: 1.1521\n",
      "Epoch: [1701/2000], Loss: 1.1403\n",
      "Epoch: [1801/2000], Loss: 1.1305\n",
      "Epoch: [1901/2000], Loss: 1.1223\n",
      "Linear classifier by least square: Train 0.57, Test 0.56\n"
     ]
    }
   ],
   "source": [
    "import torch\n",
    "import torch.nn as nn\n",
    "class LogisticRegression(nn.Module):\n",
    "    def __init__(self, input_size, num_classes):\n",
    "        super(LogisticRegression, self).__init__()\n",
    "        self.linear = nn.Linear(input_size, num_classes)\n",
    "\n",
    "    def forward(self, x):\n",
    "        out = self.linear(x)\n",
    "        return out\n",
    "\n",
    "# Create binary task\n",
    "x,y,x_test,y_test = get_multiple_classes(trainset_feat.features, trainset_feat.y.numpy(), \n",
    "                                       testset_feat.features, testset.y.numpy())\n",
    "\n",
    "model = LogisticRegression(x.shape[1], len(np.unique(y)))\n",
    "\n",
    "# Loss and Optimizer\n",
    "# Softmax is internally computed.\n",
    "# Set parameters to be updated.\n",
    "criterion = nn.CrossEntropyLoss()\n",
    "optimizer = torch.optim.SGD(model.parameters(), lr=1e-4)\n",
    "\n",
    "X = torch.from_numpy(x.astype('float32'))\n",
    "Y = torch.from_numpy(y)\n",
    "\n",
    "loss_history = []\n",
    "\n",
    "num_epochs = 2000\n",
    "for epoch in range(num_epochs):\n",
    "    # Forward + Backward + Optimize\n",
    "    optimizer.zero_grad()\n",
    "    outputs = model(X)\n",
    "    loss = criterion(outputs, Y)\n",
    "    loss.backward()\n",
    "    optimizer.step()\n",
    "    loss_history.append(loss.item())\n",
    "    if epoch%1000==0 and epoch>0:\n",
    "        optimizer = torch.optim.SGD(model.parameters(), lr=1e-5)\n",
    "    if epoch%100==0:\n",
    "        print ('Epoch: [%d/%d], Loss: %.4f'%(\n",
    "            epoch+1, num_epochs,loss.item()))\n",
    "\n",
    "pred = model(torch.from_numpy(x.astype('float32'))).argmax(1)\n",
    "train_acc  = accuracy_score(y,pred.detach().numpy())\n",
    "pred = model(torch.from_numpy(x_test.astype('float32'))).argmax(1)\n",
    "test_acc  = accuracy_score(y_test,pred.detach().numpy())\n",
    "print('Linear classifier by least square: Train %.2f, Test %.2f'%(train_acc,test_acc))"
   ]
  },
  {
   "cell_type": "code",
   "execution_count": 102,
   "metadata": {},
   "outputs": [
    {
     "data": {
      "text/plain": [
       "[<matplotlib.lines.Line2D at 0x142fb8470>]"
      ]
     },
     "execution_count": 102,
     "metadata": {},
     "output_type": "execute_result"
    },
    {
     "data": {
      "image/png": "[encoded data removed]",
      "text/plain": [
       "<Figure size 576x576 with 1 Axes>"
      ]
     },
     "metadata": {
      "needs_background": "light"
     },
     "output_type": "display_data"
    }
   ],
   "source": [
    "plt.figure(figsize=(8, 8))\n",
    "plt.plot(loss_history)"
   ]
  },
  {
   "cell_type": "code",
   "execution_count": null,
   "metadata": {},
   "outputs": [],
   "source": []
  }
 ],
 "metadata": {
  "kernelspec": {
   "display_name": "Python [conda env:deepvisionlecture] *",
   "language": "python",
   "name": "conda-env-deepvisionlecture-py"
  },
  "language_info": {
   "codemirror_mode": {
    "name": "ipython",
    "version": 3
   },
   "file_extension": ".py",
   "mimetype": "text/x-python",
   "name": "python",
   "nbconvert_exporter": "python",
   "pygments_lexer": "ipython3",
   "version": "3.7.1"
  }
 },
 "nbformat": 4,
 "nbformat_minor": 2
}
